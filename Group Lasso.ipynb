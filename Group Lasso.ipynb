{
 "cells": [
  {
   "cell_type": "code",
   "execution_count": 1,
   "metadata": {
    "collapsed": true
   },
   "outputs": [],
   "source": [
    "import ProximalOPT\n",
    "import HD\n",
    "using ArrayViews"
   ]
  },
  {
   "cell_type": "code",
   "execution_count": 7,
   "metadata": {
    "collapsed": false
   },
   "outputs": [
    {
     "name": "stderr",
     "output_type": "stream",
     "text": [
      "Warning: replacing module ProximalOPT\n"
     ]
    }
   ],
   "source": [
    "reload(\"ProximalOPT\")"
   ]
  },
  {
   "cell_type": "code",
   "execution_count": 5,
   "metadata": {
    "collapsed": true
   },
   "outputs": [],
   "source": [
    "n = 100\n",
    "p = 10\n",
    "X = randn(n, p)\n",
    "Y = X * ones(p) + 0.1 * randn(n)\n",
    "XX = X' * X / n\n",
    "Xy = X' * Y / n\n",
    "\n",
    "Abn = -Xy\n",
    "\n",
    "groups=Array(Array{Int64, 1}, 2)\n",
    "groups[1] = [1:5]\n",
    "groups[2] = [6:10];"
   ]
  },
  {
   "cell_type": "code",
   "execution_count": 3,
   "metadata": {
    "collapsed": true
   },
   "outputs": [],
   "source": [
    "lambda_max = maximum(map((x)->norm(Xy[x]), groups)) + 0.1\n",
    "lambda = [lambda_max, lambda_max]\n",
    "beta = zeros(p)\n",
    "HD.group_lasso!(beta, XX, Xy, groups, lambda)"
   ]
  },
  {
   "cell_type": "code",
   "execution_count": 34,
   "metadata": {
    "collapsed": false
   },
   "outputs": [
    {
     "name": "stdout",
     "output_type": "stream",
     "text": [
      "elapsed time: 0.00311785 seconds\n"
     ]
    }
   ],
   "source": [
    "h_beta = zeros(p)\n",
    "\n",
    "groups = Array(UnitRange{Int64}, 2)\n",
    "groups[1] = 1:5\n",
    "groups[2] = 6:10\n",
    "\n",
    "tic()\n",
    "f = ProximalOPT.quad_f(view(XX, :, :), view(Abn, :))\n",
    "g = ProximalOPT.prox_l1l2(groups, lambda)\n",
    "tr = ProximalOPT.prox_grad!(h_beta, f, g; beta=0.9, show_trace = false, ABSTOL=1e-4)\n",
    "prox_res = (copy(h_beta), tr, toc());"
   ]
  },
  {
   "cell_type": "code",
   "execution_count": 35,
   "metadata": {
    "collapsed": false
   },
   "outputs": [
    {
     "data": {
      "text/plain": [
       "10-element Array{Float64,1}:\n",
       " 0.0540221\n",
       " 0.0702471\n",
       " 0.0353803\n",
       " 0.0523237\n",
       " 0.0483645\n",
       " 0.0      \n",
       " 0.0      \n",
       " 0.0      \n",
       " 0.0      \n",
       " 0.0      "
      ]
     },
     "execution_count": 35,
     "metadata": {},
     "output_type": "execute_result"
    }
   ],
   "source": [
    "h_beta"
   ]
  },
  {
   "cell_type": "code",
   "execution_count": 28,
   "metadata": {
    "collapsed": false
   },
   "outputs": [
    {
     "data": {
      "text/plain": [
       "2-element Array{UnitRange{Int64},1}:\n",
       " 139702300727464:139702300725264\n",
       " 14854496:0                     "
      ]
     },
     "execution_count": 28,
     "metadata": {},
     "output_type": "execute_result"
    }
   ],
   "source": []
  },
  {
   "cell_type": "code",
   "execution_count": null,
   "metadata": {
    "collapsed": true
   },
   "outputs": [],
   "source": []
  }
 ],
 "metadata": {
  "kernelspec": {
   "display_name": "Julia 0.3.7-pre",
   "language": "julia",
   "name": "julia 0.3"
  },
  "language_info": {
   "name": "julia",
   "version": "0.3.8"
  }
 },
 "nbformat": 4,
 "nbformat_minor": 0
}

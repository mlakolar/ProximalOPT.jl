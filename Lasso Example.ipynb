{
 "cells": [
  {
   "cell_type": "markdown",
   "metadata": {},
   "source": [
    "# Lasso Example"
   ]
  },
  {
   "cell_type": "code",
   "execution_count": 1,
   "metadata": {
    "collapsed": false
   },
   "outputs": [
    {
     "name": "stderr",
     "output_type": "stream",
     "text": [
      "INFO: Loading help data...\n"
     ]
    }
   ],
   "source": [
    "import PyPlot\n",
    "import ProximalOPT\n",
    "import HD\n",
    "using ArrayViews"
   ]
  },
  {
   "cell_type": "code",
   "execution_count": 26,
   "metadata": {
    "collapsed": false
   },
   "outputs": [
    {
     "name": "stderr",
     "output_type": "stream",
     "text": [
      "Warning: replacing module ProximalOPT\n"
     ]
    }
   ],
   "source": [
    "reload(\"ProximalOPT\")"
   ]
  },
  {
   "cell_type": "markdown",
   "metadata": {},
   "source": [
    "Generate Data"
   ]
  },
  {
   "cell_type": "code",
   "execution_count": 2,
   "metadata": {
    "collapsed": false
   },
   "outputs": [
    {
     "name": "stdout",
     "output_type": "stream",
     "text": [
      "solving instance with 500 examples, 2500 variables\n",
      "nnz(x0) = 129; signal-to-noise ratio: 251.22786125240205\n"
     ]
    }
   ],
   "source": [
    "srand(1)\n",
    "\n",
    "n = 500\n",
    "p = 2500\n",
    "\n",
    "t_beta = sprandn(p,1,0.05) \n",
    "t_beta = vec(full(t_beta))\n",
    "A = randn(n,p)\n",
    "A = A ./ mapslices(norm, A, 1)\n",
    "v = sqrt(0.001)*randn(n)\n",
    "b = A*t_beta + v\n",
    "\n",
    "println(\"solving instance with $n examples, $p variables\")\n",
    "println(\"nnz(x0) = $(countnz(t_beta)); signal-to-noise ratio: $(norm(A*t_beta)^2/norm(v)^2)\")\n",
    "\n",
    "AA = A'A \n",
    "Ab = A'b \n",
    "Abn = -A'b\n",
    "\n",
    "gamma_max = norm(A'*b, Inf)\n",
    "gamma = 0.1*gamma_max;"
   ]
  },
  {
   "cell_type": "markdown",
   "metadata": {},
   "source": [
    "Proximal gradient"
   ]
  },
  {
   "cell_type": "code",
   "execution_count": 29,
   "metadata": {
    "collapsed": false
   },
   "outputs": [
    {
     "name": "stdout",
     "output_type": "stream",
     "text": [
      "elapsed time: 0.728625665 seconds (99800 bytes allocated)\n",
      "elapsed time: 0.731257561 seconds\n"
     ]
    }
   ],
   "source": [
    "h_beta = zeros(p)\n",
    "\n",
    "tic()\n",
    "f = ProximalOPT.quad_f(view(AA, :, :), view(Abn, :))\n",
    "g = ProximalOPT.prox_l1(gamma)\n",
    "tr = ProximalOPT.prox_grad!(h_beta, f, g; beta=0.9, show_trace = false, ABSTOL=1e-4)\n",
    "prox_res = (copy(h_beta), tr, toc());"
   ]
  },
  {
   "cell_type": "markdown",
   "metadata": {},
   "source": [
    "Fast proximal gradient"
   ]
  },
  {
   "cell_type": "code",
   "execution_count": 32,
   "metadata": {
    "collapsed": false
   },
   "outputs": [
    {
     "name": "stdout",
     "output_type": "stream",
     "text": [
      "elapsed time: 0.667481345 seconds\n"
     ]
    }
   ],
   "source": [
    "h_beta1 = zeros(p)\n",
    "\n",
    "tic()\n",
    "f = ProximalOPT.quad_f(view(AA, :, :), view(Abn, :))\n",
    "g = ProximalOPT.prox_l1(gamma)\n",
    "tr = ProximalOPT.acc_prox_grad!(h_beta1, f, g; beta=0.9, show_trace = false, ABSTOL=1e-4)\n",
    "acc_prox_res = (copy(h_beta1), tr, toc());"
   ]
  },
  {
   "cell_type": "markdown",
   "metadata": {},
   "source": [
    "Block coordinate descent"
   ]
  },
  {
   "cell_type": "code",
   "execution_count": 12,
   "metadata": {
    "collapsed": false
   },
   "outputs": [
    {
     "name": "stdout",
     "output_type": "stream",
     "text": [
      "elapsed time: 0.46685419 seconds\n"
     ]
    }
   ],
   "source": [
    "h_beta2 = spzeros(p,1)\n",
    "\n",
    "tic()\n",
    "lambda = gamma * ones(p)\n",
    "HD.lasso!(h_beta2, AA, Ab, lambda)\n",
    "h_beta2 = vec(full(h_beta2))\n",
    "coor_descent = (copy(h_beta2), toc());"
   ]
  },
  {
   "cell_type": "code",
   "execution_count": 9,
   "metadata": {
    "collapsed": false
   },
   "outputs": [
    {
     "data": {
      "text/plain": [
       "0.017706480319313433"
      ]
     },
     "execution_count": 9,
     "metadata": {},
     "output_type": "execute_result"
    }
   ],
   "source": [
    "maximum(abs(h_beta1 - h_beta2))"
   ]
  },
  {
   "cell_type": "code",
   "execution_count": 10,
   "metadata": {
    "collapsed": false
   },
   "outputs": [
    {
     "data": {
      "text/plain": [
       "obj_val (generic function with 1 method)"
      ]
     },
     "execution_count": 10,
     "metadata": {},
     "output_type": "execute_result"
    }
   ],
   "source": [
    "obj_val(x) = dot(x, AA*x) / 2. - dot(x, Ab) + gamma * norm(x, 1) + dot(b, b) / 2."
   ]
  },
  {
   "cell_type": "code",
   "execution_count": 13,
   "metadata": {
    "collapsed": false
   },
   "outputs": [
    {
     "data": {
      "text/plain": [
       "(26.295687940948326,26.296337812515745,26.295685167540775)"
      ]
     },
     "execution_count": 13,
     "metadata": {},
     "output_type": "execute_result"
    }
   ],
   "source": [
    "obj_val(h_beta), obj_val(h_beta1), obj_val(h_beta2)"
   ]
  },
  {
   "cell_type": "code",
   "execution_count": null,
   "metadata": {
    "collapsed": true
   },
   "outputs": [],
   "source": []
  }
 ],
 "metadata": {
  "kernelspec": {
   "display_name": "Julia 0.3.8-pre",
   "language": "julia",
   "name": "julia 0.3"
  },
  "language_info": {
   "name": "julia",
   "version": "0.3.8"
  }
 },
 "nbformat": 4,
 "nbformat_minor": 0
}

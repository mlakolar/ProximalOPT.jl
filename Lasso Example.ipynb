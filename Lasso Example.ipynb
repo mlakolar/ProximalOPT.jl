{
 "cells": [
  {
   "cell_type": "markdown",
   "metadata": {},
   "source": [
    "# Lasso Example"
   ]
  },
  {
   "cell_type": "code",
   "execution_count": 38,
   "metadata": {
    "collapsed": false
   },
   "outputs": [],
   "source": [
    "import PyPlot\n",
    "import ProximalOPT\n",
    "import HD"
   ]
  },
  {
   "cell_type": "code",
   "execution_count": 178,
   "metadata": {
    "collapsed": false
   },
   "outputs": [
    {
     "name": "stderr",
     "output_type": "stream",
     "text": [
      "Warning: replacing module ProximalOPT\n"
     ]
    }
   ],
   "source": [
    "reload(\"ProximalOPT\")"
   ]
  },
  {
   "cell_type": "markdown",
   "metadata": {},
   "source": [
    "Generate Data"
   ]
  },
  {
   "cell_type": "code",
   "execution_count": 114,
   "metadata": {
    "collapsed": false
   },
   "outputs": [
    {
     "name": "stdout",
     "output_type": "stream",
     "text": [
      "solving instance with 500 examples, 2500 variables\n",
      "nnz(x0) = 129; signal-to-noise ratio: 251.22786125240205\n"
     ]
    }
   ],
   "source": [
    "srand(1)\n",
    "\n",
    "n = 500\n",
    "p = 2500\n",
    "\n",
    "t_beta = sprandn(p,1,0.05) \n",
    "t_beta = vec(full(t_beta))\n",
    "A = randn(n,p)\n",
    "A = A ./ mapslices(norm, A, 1)\n",
    "v = sqrt(0.001)*randn(n)\n",
    "b = A*t_beta + v\n",
    "\n",
    "println(\"solving instance with $n examples, $p variables\")\n",
    "println(\"nnz(x0) = $(countnz(t_beta)); signal-to-noise ratio: $(norm(A*t_beta)^2/norm(v)^2)\")\n",
    "\n",
    "AA = A'A \n",
    "Ab = A'b \n",
    "\n",
    "gamma_max = norm(A'*b, Inf)\n",
    "gamma = 0.1*gamma_max;"
   ]
  },
  {
   "cell_type": "markdown",
   "metadata": {},
   "source": [
    "Proximal gradient"
   ]
  },
  {
   "cell_type": "code",
   "execution_count": 176,
   "metadata": {
    "collapsed": false
   },
   "outputs": [
    {
     "name": "stdout",
     "output_type": "stream",
     "text": [
      "elapsed time: 1.812498264 seconds\n"
     ]
    }
   ],
   "source": [
    "h_beta = zeros(p)\n",
    "\n",
    "tic()\n",
    "f = ProximalOPT.quad_f(AA, -Ab)\n",
    "g = ProximalOPT.prox_l1(gamma)\n",
    "tr = ProximalOPT.prox_grad!(h_beta, f, g; beta=0.9, show_trace = false, ABSTOL=1e-4)\n",
    "prox_res = (copy(h_beta), tr, toc());"
   ]
  },
  {
   "cell_type": "markdown",
   "metadata": {},
   "source": [
    "Fast proximal gradient"
   ]
  },
  {
   "cell_type": "code",
   "execution_count": 180,
   "metadata": {
    "collapsed": false
   },
   "outputs": [
    {
     "name": "stdout",
     "output_type": "stream",
     "text": [
      "elapsed time: 1.508100274 seconds\n"
     ]
    }
   ],
   "source": [
    "h_beta1 = zeros(p)\n",
    "\n",
    "tic()\n",
    "f = ProximalOPT.quad_f(AA, -Ab)\n",
    "g = ProximalOPT.prox_l1(gamma)\n",
    "tr = ProximalOPT.acc_prox_grad!(h_beta1, f, g; beta=0.9, show_trace = false, ABSTOL=1e-4)\n",
    "acc_prox_res = (copy(h_beta1), tr, toc());"
   ]
  },
  {
   "cell_type": "raw",
   "metadata": {},
   "source": [
    "Block coordinate descent"
   ]
  },
  {
   "cell_type": "code",
   "execution_count": 182,
   "metadata": {
    "collapsed": false
   },
   "outputs": [],
   "source": [
    "h_beta2 = spzeros(p,1)\n",
    "lambda = gamma * ones(p)\n",
    "HD.lasso!(h_beta2, AA, Ab, lambda)\n",
    "h_beta2 = vec(full(h_beta2));"
   ]
  },
  {
   "cell_type": "code",
   "execution_count": 183,
   "metadata": {
    "collapsed": false
   },
   "outputs": [
    {
     "data": {
      "text/plain": [
       "0.0177064803193141"
      ]
     },
     "execution_count": 183,
     "metadata": {},
     "output_type": "execute_result"
    }
   ],
   "source": [
    "maximum(abs(h_beta1 - h_beta2))"
   ]
  },
  {
   "cell_type": "code",
   "execution_count": 186,
   "metadata": {
    "collapsed": false
   },
   "outputs": [
    {
     "data": {
      "text/plain": [
       "obj_val (generic function with 1 method)"
      ]
     },
     "execution_count": 186,
     "metadata": {},
     "output_type": "execute_result"
    }
   ],
   "source": [
    "obj_val(x) = dot(x, AA*x) / 2. - dot(x, Ab) + gamma * norm(x, 1) + dot(b, b) / 2."
   ]
  },
  {
   "cell_type": "code",
   "execution_count": 187,
   "metadata": {
    "collapsed": false
   },
   "outputs": [
    {
     "data": {
      "text/plain": [
       "(26.295687940948334,26.29633781251576,26.295685167540775)"
      ]
     },
     "execution_count": 187,
     "metadata": {},
     "output_type": "execute_result"
    }
   ],
   "source": [
    "obj_val(h_beta), obj_val(h_beta1), obj_val(h_beta2)"
   ]
  },
  {
   "cell_type": "code",
   "execution_count": null,
   "metadata": {
    "collapsed": true
   },
   "outputs": [],
   "source": []
  }
 ],
 "metadata": {
  "kernelspec": {
   "display_name": "Julia 0.3.7-pre",
   "language": "julia",
   "name": "julia 0.3"
  },
  "language_info": {
   "name": "julia",
   "version": "0.3.8"
  }
 },
 "nbformat": 4,
 "nbformat_minor": 0
}
